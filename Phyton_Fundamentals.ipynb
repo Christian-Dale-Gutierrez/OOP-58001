{
  "nbformat": 4,
  "nbformat_minor": 0,
  "metadata": {
    "colab": {
      "name": "Phyton Fundamentals",
      "provenance": [],
      "collapsed_sections": [],
      "authorship_tag": "ABX9TyM6NturbSUP0G/uMHLXLhYk",
      "include_colab_link": true
    },
    "kernelspec": {
      "name": "python3",
      "display_name": "Python 3"
    },
    "language_info": {
      "name": "python"
    }
  },
  "cells": [
    {
      "cell_type": "markdown",
      "metadata": {
        "id": "view-in-github",
        "colab_type": "text"
      },
      "source": [
        "<a href=\"https://colab.research.google.com/github/Christian-Dale-Gutierrez/OOP-58001/blob/main/Phyton_Fundamentals.ipynb\" target=\"_parent\"><img src=\"https://colab.research.google.com/assets/colab-badge.svg\" alt=\"Open In Colab\"/></a>"
      ]
    },
    {
      "cell_type": "markdown",
      "source": [
        "Phyton Fundamentals\n",
        "\n",
        "\n"
      ],
      "metadata": {
        "id": "F6q1XIy83MZF"
      }
    },
    {
      "cell_type": "markdown",
      "source": [
        "Phyton Variable\n"
      ],
      "metadata": {
        "id": "RjKK4vB23UiH"
      }
    },
    {
      "cell_type": "code",
      "source": [
        "x = float (1)\n",
        "a, b = 0, -1\n",
        "a, b, c = \"Christian\", \"Dale\", \"Gutierrez\"\n",
        "\n",
        "print('This a sample')\n",
        "print(a)\n",
        "print(c)"
      ],
      "metadata": {
        "colab": {
          "base_uri": "https://localhost:8080/"
        },
        "id": "e9QvmwnO3YUe",
        "outputId": "73b646f5-8f7c-47aa-9752-8286c1e0c283"
      },
      "execution_count": null,
      "outputs": [
        {
          "output_type": "stream",
          "name": "stdout",
          "text": [
            "This a sample\n",
            "Christian\n",
            "Gutierrez\n"
          ]
        }
      ]
    },
    {
      "cell_type": "markdown",
      "source": [
        "\n",
        "Casting"
      ],
      "metadata": {
        "id": "OWKP2kXE3fAN"
      }
    },
    {
      "cell_type": "code",
      "source": [
        "print(x)"
      ],
      "metadata": {
        "colab": {
          "base_uri": "https://localhost:8080/"
        },
        "id": "XGnUygMl3jDD",
        "outputId": "a6b18b5d-16d5-4a1b-9e50-61f98702d245"
      },
      "execution_count": null,
      "outputs": [
        {
          "output_type": "stream",
          "name": "stdout",
          "text": [
            "1.0\n"
          ]
        }
      ]
    },
    {
      "cell_type": "markdown",
      "source": [
        "Type() Function"
      ],
      "metadata": {
        "id": "diOvr4ID3myA"
      }
    },
    {
      "cell_type": "code",
      "source": [
        "y = \"Amazing\"\n",
        "\n",
        "print(type(y))\n",
        "print(type(x))"
      ],
      "metadata": {
        "colab": {
          "base_uri": "https://localhost:8080/"
        },
        "id": "mbhWwkug3n5l",
        "outputId": "a51f0d89-8d00-4826-bb46-90eb32d6c7c0"
      },
      "execution_count": null,
      "outputs": [
        {
          "output_type": "stream",
          "name": "stdout",
          "text": [
            "<class 'str'>\n",
            "<class 'float'>\n"
          ]
        }
      ]
    },
    {
      "cell_type": "markdown",
      "source": [
        "Double Quotes and Single Quotes"
      ],
      "metadata": {
        "id": "jTO5w9yk3pn-"
      }
    },
    {
      "cell_type": "code",
      "source": [
        "#h = \"Good Bye\"\n",
        "h = 'Good Bye'\n",
        "v = 1\n",
        "V = 3\n",
        "\n",
        "print(h)\n",
        "print(v)\n",
        "print(v+1)\n"
      ],
      "metadata": {
        "colab": {
          "base_uri": "https://localhost:8080/"
        },
        "id": "WnZbS-w_3sft",
        "outputId": "2b758a72-82ac-4a43-c033-ed7f107e62db"
      },
      "execution_count": null,
      "outputs": [
        {
          "output_type": "stream",
          "name": "stdout",
          "text": [
            "Good Bye\n",
            "1\n",
            "2\n"
          ]
        }
      ]
    },
    {
      "cell_type": "markdown",
      "source": [
        "Multiple Variables"
      ],
      "metadata": {
        "id": "_LhK1MLd3uea"
      }
    },
    {
      "cell_type": "code",
      "source": [
        "x, y, z = \"see\", \"you\", 'soon'\n",
        "\n",
        "print(x)\n",
        "print(y)\n",
        "print(z)\n",
        "print(x, y, z)"
      ],
      "metadata": {
        "colab": {
          "base_uri": "https://localhost:8080/"
        },
        "id": "tneNtt_S3wHd",
        "outputId": "f8f65fa2-4745-4565-b08f-a365a8418884"
      },
      "execution_count": null,
      "outputs": [
        {
          "output_type": "stream",
          "name": "stdout",
          "text": [
            "see\n",
            "you\n",
            "soon\n",
            "see you soon\n"
          ]
        }
      ]
    },
    {
      "cell_type": "markdown",
      "source": [
        "One Value to Multiple Variables"
      ],
      "metadata": {
        "id": "S7HijBgy3ycL"
      }
    },
    {
      "cell_type": "code",
      "source": [
        "x = y = z = \"Hello\"\n",
        "print(x, y, z)\n",
        "print(x)\n",
        "print(y)\n",
        "print(z)"
      ],
      "metadata": {
        "colab": {
          "base_uri": "https://localhost:8080/"
        },
        "id": "6H_HrKK73zx6",
        "outputId": "4ddf063e-6cb1-4051-b736-56c1185b7ee0"
      },
      "execution_count": null,
      "outputs": [
        {
          "output_type": "stream",
          "name": "stdout",
          "text": [
            "Hello Hello Hello\n",
            "Hello\n",
            "Hello\n",
            "Hello\n"
          ]
        }
      ]
    },
    {
      "cell_type": "markdown",
      "source": [
        "Output Variables"
      ],
      "metadata": {
        "id": "lv-u7UBi31id"
      }
    },
    {
      "cell_type": "code",
      "source": [
        "x = \"fun\"\n",
        "y = \"Playing is\"\n",
        "\n",
        "print(\"Playing is \" + x)\n",
        "print(y + \" \" + x)"
      ],
      "metadata": {
        "colab": {
          "base_uri": "https://localhost:8080/"
        },
        "id": "wQ-IYdQi33g9",
        "outputId": "0533f77a-d1ae-4749-82ae-c57c13a5a721"
      },
      "execution_count": null,
      "outputs": [
        {
          "output_type": "stream",
          "name": "stdout",
          "text": [
            "Playing is fun\n",
            "Playing is fun\n"
          ]
        }
      ]
    },
    {
      "cell_type": "markdown",
      "source": [
        "Arithmetic Operations"
      ],
      "metadata": {
        "id": "wjBhbse4350c"
      }
    },
    {
      "cell_type": "code",
      "source": [
        "f = 3\n",
        "g = 6\n",
        "i = 9\n",
        "\n",
        "print(f+g)\n",
        "print(f-g)\n",
        "print(f*i)\n",
        "print(int(i/g))\n",
        "print(3/g)\n",
        "print(3%g)\n",
        "print(3//g)\n",
        "print(3**6)"
      ],
      "metadata": {
        "colab": {
          "base_uri": "https://localhost:8080/"
        },
        "id": "Ji5Ky7Wp37jg",
        "outputId": "b280c7bb-ab8c-46bf-f6db-95c7e926bbca"
      },
      "execution_count": null,
      "outputs": [
        {
          "output_type": "stream",
          "name": "stdout",
          "text": [
            "9\n",
            "-3\n",
            "27\n",
            "1\n",
            "0.5\n",
            "3\n",
            "0\n",
            "729\n"
          ]
        }
      ]
    },
    {
      "cell_type": "markdown",
      "source": [
        "Assignment Operators"
      ],
      "metadata": {
        "id": "itsNfqJE3-LV"
      }
    },
    {
      "cell_type": "code",
      "source": [
        "k = 2\n",
        "l = 3\n",
        "k+=3 #same as k=k+3\n",
        "\n",
        "print(k)\n",
        "\n",
        "print(l>>1)"
      ],
      "metadata": {
        "colab": {
          "base_uri": "https://localhost:8080/"
        },
        "id": "RL2hh4W23_3w",
        "outputId": "f5e5a257-9060-4618-e4f7-734c6e8a81f7"
      },
      "execution_count": null,
      "outputs": [
        {
          "output_type": "stream",
          "name": "stdout",
          "text": [
            "5\n",
            "1\n"
          ]
        }
      ]
    },
    {
      "cell_type": "markdown",
      "source": [
        "Relational Operators"
      ],
      "metadata": {
        "id": "7rY6bviu4BQE"
      }
    },
    {
      "cell_type": "code",
      "source": [
        "v=1\n",
        "k=2\n",
        "\n",
        "print(v>k)\n",
        "print(v==k)"
      ],
      "metadata": {
        "colab": {
          "base_uri": "https://localhost:8080/"
        },
        "id": "aDRHp9Mw4FMw",
        "outputId": "450a0453-06d8-498f-fce1-994e6fbf1489"
      },
      "execution_count": null,
      "outputs": [
        {
          "output_type": "stream",
          "name": "stdout",
          "text": [
            "False\n",
            "False\n"
          ]
        }
      ]
    },
    {
      "cell_type": "markdown",
      "source": [
        "Logical Operators"
      ],
      "metadata": {
        "id": "vcXkmME64Hbu"
      }
    },
    {
      "cell_type": "code",
      "source": [
        "print(v<k and k==k)\n",
        "print(v<k or k==v)\n",
        "print(not (v<k or k==v))"
      ],
      "metadata": {
        "colab": {
          "base_uri": "https://localhost:8080/"
        },
        "id": "trz9apfB4H11",
        "outputId": "f34569f5-52c4-4d41-cfda-bd921912a2b8"
      },
      "execution_count": null,
      "outputs": [
        {
          "output_type": "stream",
          "name": "stdout",
          "text": [
            "True\n",
            "True\n",
            "False\n"
          ]
        }
      ]
    },
    {
      "cell_type": "markdown",
      "source": [
        "Identity Operators"
      ],
      "metadata": {
        "id": "jlhr777o4JSE"
      }
    },
    {
      "cell_type": "code",
      "source": [
        "print(v is k)\n",
        "print(v is not k)"
      ],
      "metadata": {
        "colab": {
          "base_uri": "https://localhost:8080/"
        },
        "id": "TE_jxedZ4Ke5",
        "outputId": "2e370d59-b632-4bc5-8fd7-c68e00f6ec70"
      },
      "execution_count": null,
      "outputs": [
        {
          "output_type": "stream",
          "name": "stdout",
          "text": [
            "False\n",
            "True\n"
          ]
        }
      ]
    }
  ]
}