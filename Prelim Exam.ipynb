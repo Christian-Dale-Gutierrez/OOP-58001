{
  "nbformat": 4,
  "nbformat_minor": 0,
  "metadata": {
    "colab": {
      "name": "Untitled0.ipynb",
      "provenance": [],
      "authorship_tag": "ABX9TyPZaKj9HcaPx9jaAZ5nT3m6",
      "include_colab_link": true
    },
    "kernelspec": {
      "name": "python3",
      "display_name": "Python 3"
    },
    "language_info": {
      "name": "python"
    }
  },
  "cells": [
    {
      "cell_type": "markdown",
      "metadata": {
        "id": "view-in-github",
        "colab_type": "text"
      },
      "source": [
        "<a href=\"https://colab.research.google.com/github/Christian-Dale-Gutierrez/OOP-58001/blob/main/Prelim%20Exam.ipynb\" target=\"_parent\"><img src=\"https://colab.research.google.com/assets/colab-badge.svg\" alt=\"Open In Colab\"/></a>"
      ]
    },
    {
      "cell_type": "code",
      "execution_count": 7,
      "metadata": {
        "colab": {
          "base_uri": "https://localhost:8080/"
        },
        "id": "F8yZsdhMGcjY",
        "outputId": "1de17b4b-c192-4c01-8d1f-eb7ca52a47d8"
      },
      "outputs": [
        {
          "output_type": "stream",
          "name": "stdout",
          "text": [
            "Name:  Christian Dale A. Gutierrez\n",
            "Student Numebr:  202117153\n",
            "Age:  19\n",
            "School:  Adamson University\n",
            "Course:  BS in Computer Engineering\n"
          ]
        }
      ],
      "source": [
        "class Student:\n",
        "    def __init__(self,Name, Student_No, Age, School, Course):\n",
        "      self.Name = Name\n",
        "      self.Student_No = Student_No\n",
        "      self.Age = Age\n",
        "      self.School = School \n",
        "      self.Course = Course\n",
        "  \n",
        "    def self(self):\n",
        "      print(\"Name: \", self.Name)\n",
        "      print(\"Student Numebr: \", self.Student_No)\n",
        "      print(\"Age: \", self.Age)\n",
        "      print(\"School: \", self.School)\n",
        "      print(\"Course: \", self.Course)\n",
        "\n",
        "Myself = Student(\"Christian Dale A. Gutierrez\", 202117153, 19, \"Adamson University\", \"BS in Computer Engineering\")\n",
        "Myself.self()"
      ]
    }
  ]
}