{
  "nbformat": 4,
  "nbformat_minor": 0,
  "metadata": {
    "colab": {
      "name": "Long Quiz 1 - Gutierrez, Christian Dale A.ipynb",
      "provenance": [],
      "authorship_tag": "ABX9TyN4WOsZSVO3sYO+mn7z8jtg",
      "include_colab_link": true
    },
    "kernelspec": {
      "name": "python3",
      "display_name": "Python 3"
    },
    "language_info": {
      "name": "python"
    }
  },
  "cells": [
    {
      "cell_type": "markdown",
      "metadata": {
        "id": "view-in-github",
        "colab_type": "text"
      },
      "source": [
        "<a href=\"https://colab.research.google.com/github/Christian-Dale-Gutierrez/OOP-58001/blob/main/Long_Quiz_1_Gutierrez%2C_Christian_Dale_A.ipynb\" target=\"_parent\"><img src=\"https://colab.research.google.com/assets/colab-badge.svg\" alt=\"Open In Colab\"/></a>"
      ]
    },
    {
      "cell_type": "code",
      "execution_count": null,
      "metadata": {
        "id": "h7ku1_I7yyhD"
      },
      "outputs": [],
      "source": [
        "LONG QUIZ - GUTIERREZ"
      ]
    },
    {
      "cell_type": "markdown",
      "source": [
        "1. Write a Python program that asks the user to enter the radius of a circle and solve its area and perimeter.\n",
        "2. Create a class name Circle allowing you to build a circle with radius and pi attributes.\n",
        "3. Create a method Display() the perimeter and area using an instantiation of a class.\n",
        "4. Create a Perimeter() method to calculate the perimeter of the circle and an Area() method to calculate the area of ​​the circle."
      ],
      "metadata": {
        "id": "UeaadYPXy38D"
      }
    },
    {
      "cell_type": "code",
      "source": [
        "class Circle():\n",
        "  def __init__(self, radius):\n",
        "    self.radius = int (radius)\n",
        "\n",
        "  def Perimeter (self):\n",
        "    return 2 * pi * self.radius\n",
        "\n",
        "  def Area (self):\n",
        "    return pi * (self.radius ** 2)\n",
        "\n",
        "  def display (self):\n",
        "    print (\"The perimeter of the Ring is\", self.Perimeter())\n",
        "    print (\"The area of the Ring is\", self.Area())\n",
        "\n",
        "pi = 3.14\n",
        "ring = Circle (input())\n",
        "ring.display()"
      ],
      "metadata": {
        "colab": {
          "base_uri": "https://localhost:8080/"
        },
        "id": "6QnKqGM4y4gu",
        "outputId": "d056ffb9-954b-4fd4-8b5d-41645f8b11f4"
      },
      "execution_count": 1,
      "outputs": [
        {
          "output_type": "stream",
          "name": "stdout",
          "text": [
            "3\n",
            "The perimeter of the Ring is 18.84\n",
            "The area of the Ring is 28.26\n"
          ]
        }
      ]
    }
  ]
}