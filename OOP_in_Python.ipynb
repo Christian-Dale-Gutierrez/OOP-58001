{
  "nbformat": 4,
  "nbformat_minor": 0,
  "metadata": {
    "colab": {
      "name": "OOP in Python.ipynb",
      "provenance": [],
      "authorship_tag": "ABX9TyOZ75hiW2zENLQJOZKpSmhV",
      "include_colab_link": true
    },
    "kernelspec": {
      "name": "python3",
      "display_name": "Python 3"
    },
    "language_info": {
      "name": "python"
    }
  },
  "cells": [
    {
      "cell_type": "markdown",
      "metadata": {
        "id": "view-in-github",
        "colab_type": "text"
      },
      "source": [
        "<a href=\"https://colab.research.google.com/github/Christian-Dale-Gutierrez/OOP-58001/blob/main/OOP_in_Python.ipynb\" target=\"_parent\"><img src=\"https://colab.research.google.com/assets/colab-badge.svg\" alt=\"Open In Colab\"/></a>"
      ]
    },
    {
      "cell_type": "code",
      "execution_count": 3,
      "metadata": {
        "id": "x30AuZrfDRZv"
      },
      "outputs": [],
      "source": [
        "class MyClass:\n",
        "  pass                #to create a class without method"
      ]
    },
    {
      "cell_type": "code",
      "source": [
        "class MyClass:        #the name of the class\n",
        "  x = 40              #property of the class named MyClass\n"
      ],
      "metadata": {
        "id": "XSxtXGMRDXco"
      },
      "execution_count": 4,
      "outputs": []
    },
    {
      "cell_type": "code",
      "source": [
        "class Car():                          #Create a class named car\n",
        "  def __init__(self,name,color):\n",
        "    self.name = name                  #represents the instance of class named Car\n",
        "    self.color = color                \n",
        "\n",
        "  def description(self):\n",
        "    return self.name, self.color\n",
        "  \n",
        "  def display(self):\n",
        "    print (\"The name and color of the car \", self.description())\n",
        "obj1 = Car(\"Toyota\",\"black\")\n",
        "obj1.display()\n"
      ],
      "metadata": {
        "colab": {
          "base_uri": "https://localhost:8080/"
        },
        "id": "HdavdysKDZ9F",
        "outputId": "33add139-3a81-4b4a-eac8-8cb7161a6458"
      },
      "execution_count": 5,
      "outputs": [
        {
          "output_type": "stream",
          "name": "stdout",
          "text": [
            "The name and color of the car  ('Toyota', 'black')\n"
          ]
        }
      ]
    },
    {
      "cell_type": "markdown",
      "source": [
        "Modify an Object Property"
      ],
      "metadata": {
        "id": "SNe5RqRWDbxf"
      }
    },
    {
      "cell_type": "code",
      "source": [
        "obj1.name = \"Geely\"\n",
        "print(obj1.name)"
      ],
      "metadata": {
        "colab": {
          "base_uri": "https://localhost:8080/"
        },
        "id": "e8inGOZUDfG2",
        "outputId": "f7eeabf6-f26c-456e-9141-563e0d8ab14b"
      },
      "execution_count": 6,
      "outputs": [
        {
          "output_type": "stream",
          "name": "stdout",
          "text": [
            "Geely\n"
          ]
        }
      ]
    },
    {
      "cell_type": "code",
      "source": [
        "obj1.display()"
      ],
      "metadata": {
        "colab": {
          "base_uri": "https://localhost:8080/"
        },
        "id": "KV-TzLyaDgeS",
        "outputId": "dc705d58-c73b-4ba8-b292-729a226722b5"
      },
      "execution_count": 7,
      "outputs": [
        {
          "output_type": "stream",
          "name": "stdout",
          "text": [
            "The name and color of the car  ('Geely', 'black')\n"
          ]
        }
      ]
    },
    {
      "cell_type": "markdown",
      "source": [
        "Delete the Object Property"
      ],
      "metadata": {
        "id": "DRzDMvsND37S"
      }
    },
    {
      "cell_type": "code",
      "source": [
        "class Car():                          #Create a class named car\n",
        "  def __init__(self,name,color):\n",
        "    self.name = name                  #represents the instance of class named Car\n",
        "    self.color = color                \n",
        "\n",
        "  def description(self):\n",
        "    return self.name, self.color\n",
        "  \n",
        "  def display(self):\n",
        "    print (\"The name and color of the car \", self.description())\n",
        "obj1 = Car(\"Geely\",\"black\")\n",
        "obj1.display()\n"
      ],
      "metadata": {
        "colab": {
          "base_uri": "https://localhost:8080/"
        },
        "id": "qekvh9S-D5jD",
        "outputId": "669a8ad4-9595-4c47-83b8-856c7b93d3a8"
      },
      "execution_count": 8,
      "outputs": [
        {
          "output_type": "stream",
          "name": "stdout",
          "text": [
            "The name and color of the car  ('Geely', 'black')\n"
          ]
        }
      ]
    },
    {
      "cell_type": "code",
      "source": [
        "del obj1.color\n",
        "obj1.display()"
      ],
      "metadata": {
        "colab": {
          "base_uri": "https://localhost:8080/",
          "height": 182
        },
        "id": "i2PGgQtID_Yu",
        "outputId": "7e9f435a-eca0-4d4a-b552-97a528722b5a"
      },
      "execution_count": 15,
      "outputs": [
        {
          "output_type": "error",
          "ename": "AttributeError",
          "evalue": "ignored",
          "traceback": [
            "\u001b[0;31m---------------------------------------------------------------------------\u001b[0m",
            "\u001b[0;31mAttributeError\u001b[0m                            Traceback (most recent call last)",
            "\u001b[0;32m<ipython-input-15-9189caea74dd>\u001b[0m in \u001b[0;36m<module>\u001b[0;34m()\u001b[0m\n\u001b[0;32m----> 1\u001b[0;31m \u001b[0;32mdel\u001b[0m \u001b[0mobj1\u001b[0m\u001b[0;34m.\u001b[0m\u001b[0mcolor\u001b[0m\u001b[0;34m\u001b[0m\u001b[0;34m\u001b[0m\u001b[0m\n\u001b[0m\u001b[1;32m      2\u001b[0m \u001b[0mobj1\u001b[0m\u001b[0;34m.\u001b[0m\u001b[0mdisplay\u001b[0m\u001b[0;34m(\u001b[0m\u001b[0;34m)\u001b[0m\u001b[0;34m\u001b[0m\u001b[0;34m\u001b[0m\u001b[0m\n",
            "\u001b[0;31mAttributeError\u001b[0m: color"
          ]
        }
      ]
    },
    {
      "cell_type": "code",
      "source": [
        "del obj1\n",
        "obj1.display()"
      ],
      "metadata": {
        "colab": {
          "base_uri": "https://localhost:8080/",
          "height": 182
        },
        "id": "mWSJNb4WEc-y",
        "outputId": "cfdc7178-62c9-4632-b100-a7248c3eba8c"
      },
      "execution_count": 16,
      "outputs": [
        {
          "output_type": "error",
          "ename": "NameError",
          "evalue": "ignored",
          "traceback": [
            "\u001b[0;31m---------------------------------------------------------------------------\u001b[0m",
            "\u001b[0;31mNameError\u001b[0m                                 Traceback (most recent call last)",
            "\u001b[0;32m<ipython-input-16-91368394876f>\u001b[0m in \u001b[0;36m<module>\u001b[0;34m()\u001b[0m\n\u001b[1;32m      1\u001b[0m \u001b[0;32mdel\u001b[0m \u001b[0mobj1\u001b[0m\u001b[0;34m\u001b[0m\u001b[0;34m\u001b[0m\u001b[0m\n\u001b[0;32m----> 2\u001b[0;31m \u001b[0mobj1\u001b[0m\u001b[0;34m.\u001b[0m\u001b[0mdisplay\u001b[0m\u001b[0;34m(\u001b[0m\u001b[0;34m)\u001b[0m\u001b[0;34m\u001b[0m\u001b[0;34m\u001b[0m\u001b[0m\n\u001b[0m",
            "\u001b[0;31mNameError\u001b[0m: name 'obj1' is not defined"
          ]
        }
      ]
    },
    {
      "cell_type": "code",
      "source": [
        "obj2 = Car(\"BMW\",\"red\")\n",
        "obj2.display()"
      ],
      "metadata": {
        "colab": {
          "base_uri": "https://localhost:8080/"
        },
        "id": "v8566xYkEeLX",
        "outputId": "70a7e0b3-70c1-4257-d428-4428c78a7592"
      },
      "execution_count": 17,
      "outputs": [
        {
          "output_type": "stream",
          "name": "stdout",
          "text": [
            "The name and color of the car  ('BMW', 'red')\n"
          ]
        }
      ]
    },
    {
      "cell_type": "markdown",
      "source": [
        "Application 1 - Write a python program to compute the area and perimeter of a rectangle. Use Rectangle as class name and length and wiidth as attributes"
      ],
      "metadata": {
        "id": "NI8aqp7SEgRQ"
      }
    },
    {
      "cell_type": "code",
      "source": [
        "class Rectangle():                          #Create a class named Rectangle\n",
        "  def __init__(self,length,width):\n",
        "    self.length = length                  #represents the instance of class named Rectangle\n",
        "    self.width = width                \n",
        "\n",
        "  def Area(self):\n",
        "    return self.length*self.width\n",
        "  \n",
        "  def Perimeter(self):\n",
        "    return 2*(self.length+self.width)\n",
        "  \n",
        "  def display(self):\n",
        "    print (\"The area of rectangle is  \", self.Area())\n",
        "    print (\"The perimeter of rectangle is \", self.Perimeter())\n",
        "\n",
        "pol = Rectangle(7,4.5)\n",
        "pol.display()"
      ],
      "metadata": {
        "colab": {
          "base_uri": "https://localhost:8080/"
        },
        "id": "846QraIyEhtq",
        "outputId": "fcde00c5-861b-4912-f0a0-9efdbc9c6168"
      },
      "execution_count": 18,
      "outputs": [
        {
          "output_type": "stream",
          "name": "stdout",
          "text": [
            "The area of rectangle is   31.5\n",
            "The perimeter of rectangle is  23.0\n"
          ]
        }
      ]
    },
    {
      "cell_type": "markdown",
      "source": [
        "Application 2 - Write a python program to display a class name OOP_58001 with student no. and fullname (Surname, Firstname) as attributes"
      ],
      "metadata": {
        "id": "V0Ftrk3hEjcS"
      }
    },
    {
      "cell_type": "code",
      "source": [
        "class Person:\n",
        " def __init__(self,student,number):\n",
        "  self.student = student\n",
        "  self.number = number\n",
        "\n",
        " def myFunction(self):\n",
        "  print(\"I am\",self.student,\"and my student number is\",self.number,\".\")\n",
        "  print(\"Section-OOP_58001\")\n",
        "\n",
        "\n",
        "p1= Person(\"Gutierrez, Christian Dale A.\", 202117153)\n",
        "p1.myFunction()"
      ],
      "metadata": {
        "colab": {
          "base_uri": "https://localhost:8080/"
        },
        "id": "a86ofYhCEkuB",
        "outputId": "f9e7b42e-1331-4677-c15c-75d8299bbe24"
      },
      "execution_count": 20,
      "outputs": [
        {
          "output_type": "stream",
          "name": "stdout",
          "text": [
            "I am Gutierrez, Christian Dale A. and my student number is 202117153 .\n",
            "Section-OOP_58001\n"
          ]
        }
      ]
    }
  ]
}